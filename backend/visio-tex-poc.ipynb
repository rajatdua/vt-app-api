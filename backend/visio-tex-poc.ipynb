{
 "cells": [
  {
   "cell_type": "code",
   "execution_count": 2,
   "outputs": [
    {
     "name": "stdout",
     "output_type": "stream",
     "text": [
      "Requirement already satisfied: numpy in ./venv/lib/python3.11/site-packages (2.1.1)\r\n",
      "\r\n",
      "\u001B[1m[\u001B[0m\u001B[34;49mnotice\u001B[0m\u001B[1;39;49m]\u001B[0m\u001B[39;49m A new release of pip is available: \u001B[0m\u001B[31;49m23.2.1\u001B[0m\u001B[39;49m -> \u001B[0m\u001B[32;49m24.2\u001B[0m\r\n",
      "\u001B[1m[\u001B[0m\u001B[34;49mnotice\u001B[0m\u001B[1;39;49m]\u001B[0m\u001B[39;49m To update, run: \u001B[0m\u001B[32;49mpip install --upgrade pip\u001B[0m\r\n",
      "Collecting pillow\r\n",
      "  Obtaining dependency information for pillow from https://files.pythonhosted.org/packages/f4/5f/491dafc7bbf5a3cc1845dc0430872e8096eb9e2b6f8161509d124594ec2d/pillow-10.4.0-cp311-cp311-macosx_11_0_arm64.whl.metadata\r\n",
      "  Downloading pillow-10.4.0-cp311-cp311-macosx_11_0_arm64.whl.metadata (9.2 kB)\r\n",
      "Downloading pillow-10.4.0-cp311-cp311-macosx_11_0_arm64.whl (3.4 MB)\r\n",
      "\u001B[2K   \u001B[90m━━━━━━━━━━━━━━━━━━━━━━━━━━━━━━━━━━━━━━━━\u001B[0m \u001B[32m3.4/3.4 MB\u001B[0m \u001B[31m11.8 MB/s\u001B[0m eta \u001B[36m0:00:00\u001B[0ma \u001B[36m0:00:01\u001B[0m\r\n",
      "\u001B[?25hInstalling collected packages: pillow\r\n",
      "Successfully installed pillow-10.4.0\r\n",
      "\r\n",
      "\u001B[1m[\u001B[0m\u001B[34;49mnotice\u001B[0m\u001B[1;39;49m]\u001B[0m\u001B[39;49m A new release of pip is available: \u001B[0m\u001B[31;49m23.2.1\u001B[0m\u001B[39;49m -> \u001B[0m\u001B[32;49m24.2\u001B[0m\r\n",
      "\u001B[1m[\u001B[0m\u001B[34;49mnotice\u001B[0m\u001B[1;39;49m]\u001B[0m\u001B[39;49m To update, run: \u001B[0m\u001B[32;49mpip install --upgrade pip\u001B[0m\r\n",
      "Requirement already satisfied: torch in ./venv/lib/python3.11/site-packages (2.4.1)\r\n",
      "Requirement already satisfied: filelock in ./venv/lib/python3.11/site-packages (from torch) (3.16.0)\r\n",
      "Requirement already satisfied: typing-extensions>=4.8.0 in ./venv/lib/python3.11/site-packages (from torch) (4.12.2)\r\n",
      "Requirement already satisfied: sympy in ./venv/lib/python3.11/site-packages (from torch) (1.13.2)\r\n",
      "Requirement already satisfied: networkx in ./venv/lib/python3.11/site-packages (from torch) (3.3)\r\n",
      "Requirement already satisfied: jinja2 in ./venv/lib/python3.11/site-packages (from torch) (3.1.4)\r\n",
      "Requirement already satisfied: fsspec in ./venv/lib/python3.11/site-packages (from torch) (2024.9.0)\r\n",
      "Requirement already satisfied: MarkupSafe>=2.0 in ./venv/lib/python3.11/site-packages (from jinja2->torch) (2.1.5)\r\n",
      "Requirement already satisfied: mpmath<1.4,>=1.1.0 in ./venv/lib/python3.11/site-packages (from sympy->torch) (1.3.0)\r\n",
      "\r\n",
      "\u001B[1m[\u001B[0m\u001B[34;49mnotice\u001B[0m\u001B[1;39;49m]\u001B[0m\u001B[39;49m A new release of pip is available: \u001B[0m\u001B[31;49m23.2.1\u001B[0m\u001B[39;49m -> \u001B[0m\u001B[32;49m24.2\u001B[0m\r\n",
      "\u001B[1m[\u001B[0m\u001B[34;49mnotice\u001B[0m\u001B[1;39;49m]\u001B[0m\u001B[39;49m To update, run: \u001B[0m\u001B[32;49mpip install --upgrade pip\u001B[0m\r\n"
     ]
    }
   ],
   "source": [
    "!pip install numpy\n",
    "!pip install pillow\n",
    "!pip install torch"
   ],
   "metadata": {
    "collapsed": false,
    "ExecuteTime": {
     "end_time": "2024-09-13T07:03:25.644637Z",
     "start_time": "2024-09-13T07:03:22.073242Z"
    }
   },
   "id": "23dea60e3ad344d2"
  },
  {
   "cell_type": "code",
   "execution_count": 17,
   "outputs": [
    {
     "name": "stdout",
     "output_type": "stream",
     "text": [
      "Found existing installation: numpy 2.0.0\r\n",
      "Uninstalling numpy-2.0.0:\r\n",
      "  Would remove:\r\n",
      "    /Users/rajat/Library/Caches/pypoetry/virtualenvs/app-FNN-Bqnv-py3.11/bin/f2py\r\n",
      "    /Users/rajat/Library/Caches/pypoetry/virtualenvs/app-FNN-Bqnv-py3.11/bin/numpy-config\r\n",
      "    /Users/rajat/Library/Caches/pypoetry/virtualenvs/app-FNN-Bqnv-py3.11/lib/python3.11/site-packages/numpy-2.0.0.dist-info/*\r\n",
      "    /Users/rajat/Library/Caches/pypoetry/virtualenvs/app-FNN-Bqnv-py3.11/lib/python3.11/site-packages/numpy/*\r\n",
      "Proceed (Y/n)? ^C\r\n",
      "\u001B[31mERROR: Operation cancelled by user\u001B[0m\u001B[31m\r\n",
      "\u001B[0mRequirement already satisfied: numpy==2.0.0 in /Users/rajat/Library/Caches/pypoetry/virtualenvs/app-FNN-Bqnv-py3.11/lib/python3.11/site-packages (2.0.0)\r\n",
      "\r\n",
      "\u001B[1m[\u001B[0m\u001B[34;49mnotice\u001B[0m\u001B[1;39;49m]\u001B[0m\u001B[39;49m A new release of pip is available: \u001B[0m\u001B[31;49m24.1\u001B[0m\u001B[39;49m -> \u001B[0m\u001B[32;49m24.2\u001B[0m\r\n",
      "\u001B[1m[\u001B[0m\u001B[34;49mnotice\u001B[0m\u001B[1;39;49m]\u001B[0m\u001B[39;49m To update, run: \u001B[0m\u001B[32;49mpip install --upgrade pip\u001B[0m\r\n"
     ]
    }
   ],
   "source": [
    "!pip uninstall numpy\n",
    "!pip install numpy==2.0.0"
   ],
   "metadata": {
    "collapsed": false,
    "ExecuteTime": {
     "end_time": "2024-09-13T07:27:25.573468Z",
     "start_time": "2024-09-13T07:27:15.240983Z"
    }
   },
   "id": "5964687b3f1a50c8"
  },
  {
   "cell_type": "code",
   "execution_count": 9,
   "id": "initial_id",
   "metadata": {
    "collapsed": true,
    "ExecuteTime": {
     "end_time": "2024-09-15T16:23:39.699314Z",
     "start_time": "2024-09-15T16:23:39.383819Z"
    }
   },
   "outputs": [
    {
     "name": "stderr",
     "output_type": "stream",
     "text": [
      "Using cache found in /Users/rajat/.cache/torch/hub/ultralytics_yolov5_master\n",
      "YOLOv5 🚀 2024-9-13 Python-3.11.4 torch-2.4.1 CPU\n",
      "\n",
      "Fusing layers... \n",
      "Model summary: 157 layers, 7012822 parameters, 0 gradients, 15.8 GFLOPs\n",
      "Adding AutoShape... \n"
     ]
    },
    {
     "name": "stdout",
     "output_type": "stream",
     "text": [
      "[{'bounding_box': [2453, 1081, 2623, 2205], 'confidence': 0.9202294945716858}, {'bounding_box': [2825, 936, 3024, 2210], 'confidence': 0.911090612411499}, {'bounding_box': [3097, 1139, 3380, 2194], 'confidence': 0.9089668989181519}, {'bounding_box': [1119, 1123, 1329, 2281], 'confidence': 0.8971620202064514}, {'bounding_box': [2700, 1037, 2831, 2212], 'confidence': 0.8963306546211243}, {'bounding_box': [912, 1182, 1198, 2247], 'confidence': 0.8920981287956238}, {'bounding_box': [1723, 1114, 1890, 2254], 'confidence': 0.8875489234924316}, {'bounding_box': [2074, 1044, 2264, 2228], 'confidence': 0.8874149918556213}, {'bounding_box': [2250, 1235, 2354, 2208], 'confidence': 0.87773597240448}, {'bounding_box': [1504, 1135, 1649, 2236], 'confidence': 0.8744417428970337}, {'bounding_box': [668, 1170, 876, 2216], 'confidence': 0.8736534118652344}, {'bounding_box': [1633, 1272, 1757, 2254], 'confidence': 0.8725700974464417}, {'bounding_box': [1875, 1168, 2016, 2224], 'confidence': 0.8719338178634644}, {'bounding_box': [1536, 2789, 1658, 3017], 'confidence': 0.8576330542564392}, {'bounding_box': [2817, 2816, 3007, 3024], 'confidence': 0.8575521111488342}, {'bounding_box': [1419, 1141, 1563, 2251], 'confidence': 0.8523808121681213}, {'bounding_box': [2986, 1067, 3135, 2190], 'confidence': 0.8434074521064758}, {'bounding_box': [2347, 1240, 2457, 2196], 'confidence': 0.8317003846168518}, {'bounding_box': [3348, 1352, 3515, 2165], 'confidence': 0.8302294015884399}, {'bounding_box': [545, 1090, 767, 2212], 'confidence': 0.8038949966430664}, {'bounding_box': [3554, 2801, 3801, 3022], 'confidence': 0.8025251030921936}, {'bounding_box': [998, 2848, 1134, 3023], 'confidence': 0.793927788734436}, {'bounding_box': [2014, 2762, 2130, 3013], 'confidence': 0.7838168144226074}, {'bounding_box': [2002, 1277, 2088, 2216], 'confidence': 0.7837032675743103}, {'bounding_box': [1443, 2742, 1533, 3024], 'confidence': 0.77789705991745}, {'bounding_box': [2624, 1062, 2698, 2198], 'confidence': 0.769428014755249}, {'bounding_box': [481, 0, 681, 382], 'confidence': 0.7675371766090393}, {'bounding_box': [836, 2871, 992, 3019], 'confidence': 0.7584771513938904}, {'bounding_box': [2273, 2898, 2425, 3018], 'confidence': 0.741851806640625}, {'bounding_box': [778, 1186, 965, 2199], 'confidence': 0.7101526260375977}, {'bounding_box': [674, 0, 869, 374], 'confidence': 0.7071013450622559}, {'bounding_box': [3269, 2491, 3405, 3020], 'confidence': 0.6894485354423523}, {'bounding_box': [1274, 1356, 1394, 2259], 'confidence': 0.6798698902130127}, {'bounding_box': [3123, 2832, 3212, 3024], 'confidence': 0.6656959652900696}, {'bounding_box': [1907, 2853, 2006, 3022], 'confidence': 0.6624164581298828}, {'bounding_box': [1319, 1251, 1484, 2251], 'confidence': 0.6274592876434326}, {'bounding_box': [1558, 3, 1737, 374], 'confidence': 0.6195817589759827}, {'bounding_box': [3373, 2553, 3502, 3022], 'confidence': 0.6124943494796753}, {'bounding_box': [1783, 2496, 1900, 3022], 'confidence': 0.6085751056671143}, {'bounding_box': [2495, 2903, 2614, 3021], 'confidence': 0.5949525237083435}, {'bounding_box': [1794, 2753, 1896, 3006], 'confidence': 0.574337363243103}, {'bounding_box': [2608, 2879, 2720, 3018], 'confidence': 0.5631383657455444}, {'bounding_box': [3443, 2557, 3555, 3016], 'confidence': 0.526303231716156}, {'bounding_box': [287, 6, 424, 419], 'confidence': 0.489766389131546}, {'bounding_box': [1891, 0, 2073, 377], 'confidence': 0.4731287956237793}, {'bounding_box': [1427, 5, 1633, 373], 'confidence': 0.46199989318847656}, {'bounding_box': [2444, 1087, 2824, 2215], 'confidence': 0.45700645446777344}, {'bounding_box': [401, 1306, 653, 2268], 'confidence': 0.4520933926105499}, {'bounding_box': [976, 1, 1169, 376], 'confidence': 0.41974255442619324}, {'bounding_box': [902, 0, 1046, 375], 'confidence': 0.39820805191993713}, {'bounding_box': [1175, 2856, 1280, 3018], 'confidence': 0.39059531688690186}, {'bounding_box': [2196, 2633, 2271, 3011], 'confidence': 0.36747801303863525}, {'bounding_box': [1703, 0, 1942, 370], 'confidence': 0.35398170351982117}, {'bounding_box': [2389, 2550, 2503, 3013], 'confidence': 0.34615105390548706}, {'bounding_box': [2149, 0, 2305, 371], 'confidence': 0.32807767391204834}, {'bounding_box': [3202, 2832, 3273, 3010], 'confidence': 0.3217083513736725}, {'bounding_box': [2314, 0, 2470, 372], 'confidence': 0.3094497323036194}, {'bounding_box': [2228, 0, 2373, 375], 'confidence': 0.30016714334487915}, {'bounding_box': [1276, 9, 1479, 366], 'confidence': 0.29931125044822693}, {'bounding_box': [1329, 2871, 1445, 3011], 'confidence': 0.29864534735679626}, {'bounding_box': [2520, 0, 2661, 365], 'confidence': 0.2808282971382141}, {'bounding_box': [2882, 0, 3008, 364], 'confidence': 0.27344033122062683}, {'bounding_box': [2584, 0, 2706, 362], 'confidence': 0.26688912510871887}, {'bounding_box': [2411, 0, 2564, 370], 'confidence': 0.26667144894599915}, {'bounding_box': [2006, 1, 2183, 373], 'confidence': 0.26589685678482056}, {'bounding_box': [818, 5, 955, 365], 'confidence': 0.25925278663635254}, {'bounding_box': [0, 1538, 75, 2054], 'confidence': 0.25072258710861206}]\n"
     ]
    },
    {
     "name": "stderr",
     "output_type": "stream",
     "text": [
      "/Users/rajat/.cache/torch/hub/ultralytics_yolov5_master/models/common.py:892: FutureWarning: `torch.cuda.amp.autocast(args...)` is deprecated. Please use `torch.amp.autocast('cuda', args...)` instead.\n",
      "  with amp.autocast(autocast):\n"
     ]
    }
   ],
   "source": [
    "import ssl\n",
    "ssl._create_default_https_context = ssl._create_unverified_context\n",
    "\n",
    "from app.core.detect import read_file_local, get_spine_regions\n",
    "import torch\n",
    "\n",
    "# model = torch.hub.load('ultralytics/yolov5', 'yolov5s')\n",
    "model = torch.hub.load('ultralytics/yolov5', 'custom', path='best.pt')\n",
    "image_path = 'simple-example-2.jpeg'\n",
    " # Read the image file\n",
    "img = read_file_local(image_path)\n",
    "\n",
    "# Detect book spines using YOLOv5\n",
    "results = model(img)\n",
    "\n",
    "# Get bounding boxes for detected objects (book spines)\n",
    "spine_regions = get_spine_regions(results)\n",
    "\n",
    "print(spine_regions);"
   ]
  },
  {
   "cell_type": "code",
   "execution_count": 10,
   "outputs": [],
   "source": [
    "import cv2\n",
    "\n",
    "def draw_bounding_boxes_cv2(image_path, boxes):\n",
    "    # Read the image\n",
    "    img = cv2.imread(image_path)\n",
    "\n",
    "    # Loop through all bounding boxes and draw them on the image\n",
    "    for box in boxes:\n",
    "        # Get the bounding box coordinates\n",
    "        bbox = box['bounding_box']\n",
    "        confidence = box['confidence']\n",
    "        \n",
    "        # Draw the bounding box as a rectangle on the image (x1, y1, x2, y2)\n",
    "        cv2.rectangle(img, (bbox[0], bbox[1]), (bbox[2], bbox[3]), (0, 0, 255), 3)\n",
    "\n",
    "        # Optionally, add the confidence score as text\n",
    "        \n",
    "        cv2.putText(img, f\"{confidence:.2f}\", (bbox[0], bbox[1]-10), cv2.FONT_HERSHEY_SIMPLEX, 0.9, (0, 0, 255), 2)\n",
    "    \n",
    "    # Show or save the result\n",
    "    cv2.imshow('Image with bounding boxes', img)\n",
    "    cv2.imwrite('output_with_boxes_cv2.jpg', img)\n",
    "    cv2.destroyAllWindows()\n",
    "    \n",
    "draw_bounding_boxes_cv2(image_path, spine_regions)"
   ],
   "metadata": {
    "collapsed": false,
    "ExecuteTime": {
     "end_time": "2024-09-15T16:23:43.693610Z",
     "start_time": "2024-09-15T16:23:43.579877Z"
    }
   },
   "id": "93476acf597a0de0"
  }
 ],
 "metadata": {
  "kernelspec": {
   "display_name": "Python 3",
   "language": "python",
   "name": "python3"
  },
  "language_info": {
   "codemirror_mode": {
    "name": "ipython",
    "version": 2
   },
   "file_extension": ".py",
   "mimetype": "text/x-python",
   "name": "python",
   "nbconvert_exporter": "python",
   "pygments_lexer": "ipython2",
   "version": "2.7.6"
  }
 },
 "nbformat": 4,
 "nbformat_minor": 5
}
